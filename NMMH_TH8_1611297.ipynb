{
  "nbformat": 4,
  "nbformat_minor": 0,
  "metadata": {
    "colab": {
      "name": "NMMH_TH8_1611297.ipynb",
      "provenance": [],
      "private_outputs": true,
      "collapsed_sections": [],
      "authorship_tag": "ABX9TyP3TN/kha43/qq4s/8Y9ZcE",
      "include_colab_link": true
    },
    "kernelspec": {
      "name": "python3",
      "display_name": "Python 3"
    },
    "accelerator": "GPU"
  },
  "cells": [
    {
      "cell_type": "markdown",
      "metadata": {
        "id": "view-in-github",
        "colab_type": "text"
      },
      "source": [
        "<a href=\"https://colab.research.google.com/github/ntngoctram98/Compress-WSQ/blob/master/NMMH_TH8_1611297.ipynb\" target=\"_parent\"><img src=\"https://colab.research.google.com/assets/colab-badge.svg\" alt=\"Open In Colab\"/></a>"
      ]
    },
    {
      "cell_type": "markdown",
      "metadata": {
        "id": "DDDclcut8jCW",
        "colab_type": "text"
      },
      "source": [
        "# Bài 8: Keras, Regression\n",
        "\n",
        "Trong bài thực hành này, chúng ta sẽ \n",
        "- Làm quen với Tensorflow thông qua các bài toán Regression\n"
      ]
    },
    {
      "cell_type": "markdown",
      "metadata": {
        "id": "B2krV_Pc8lD9",
        "colab_type": "text"
      },
      "source": [
        "## 1. Dự đoán giá nhà (Lab 01)"
      ]
    },
    {
      "cell_type": "code",
      "metadata": {
        "id": "L5fWzxvJ7s5_",
        "colab_type": "code",
        "colab": {}
      },
      "source": [
        "import pandas as pd\n",
        "import numpy as np\n",
        "df = pd.read_csv(\"https://raw.githubusercontent.com/dinhvietcuong1996/Lab-MachineLearningCourse/master/Lab08/House_Price.csv\")   \n",
        "df.head()"
      ],
      "execution_count": null,
      "outputs": []
    },
    {
      "cell_type": "code",
      "metadata": {
        "id": "GaVyGbSf71ga",
        "colab_type": "code",
        "colab": {}
      },
      "source": [
        "from sklearn.model_selection import train_test_split\n",
        "df_train, df_test = train_test_split(df, test_size=0.1)\n",
        "\n",
        "## dùng width và length để đoán price\n",
        "X_train = df_train[['width', 'length']].values    \n",
        "X_test = df_test[['width', 'length']].values\n",
        "\n",
        "X_means = np.mean(X_train, axis=0)\n",
        "X_stds = np.std(X_train, axis=0)\n",
        "X_train = (X_train - X_means)/X_stds\n",
        "X_test = (X_test - X_means)/X_stds\n",
        "\n",
        "y_train = df_train['price'].values\n",
        "y_test = df_test['price'].values\n",
        "\n",
        "y_means = np.mean(y_train, axis=0)\n",
        "y_stds = np.std(y_train, axis=0)\n"
      ],
      "execution_count": null,
      "outputs": []
    },
    {
      "cell_type": "code",
      "metadata": {
        "id": "XKDVpgwc82XU",
        "colab_type": "code",
        "colab": {}
      },
      "source": [
        "import tensorflow as tf\n",
        "from tensorflow.keras.layers import Input, Dense\n",
        "from tensorflow.keras.models import Model\n",
        "\n",
        "inputs = Input(shape=(2,))    ## tạo một layer Input, mỗi sample có input là 1 vector độ dài 2\n",
        "dense_1 = Dense(units=10, activation='relu')(inputs)   ## tạo một layer gồm 10 units, hàm kích hoạt relu\n",
        "outputs = Dense(units=1, activation=None)(dense_1)   ## tạo layer output gồm 1 units, tượng trưng cho giá nhà, vì giá nhà thực nên không để hàm kích hoạt\n",
        "model = Model(inputs=inputs, outputs=outputs)    ## tạo model với input và output layer đã xây dựng\n",
        "\n",
        "model.compile(optimizer=tf.keras.optimizers.Adam(learning_rate=1000.0),\n",
        "             loss='mean_squared_error')      ## khai báo optimizer và loss cho model\n",
        "model.summary()           "
      ],
      "execution_count": null,
      "outputs": []
    },
    {
      "cell_type": "code",
      "metadata": {
        "id": "mqTlV7ir84MG",
        "colab_type": "code",
        "colab": {}
      },
      "source": [
        "model.fit(X_train, y_train, validation_data=(X_test, y_test), epochs=10, batch_size=80)"
      ],
      "execution_count": null,
      "outputs": []
    },
    {
      "cell_type": "markdown",
      "metadata": {
        "id": "PCu02SNM8_TB",
        "colab_type": "text"
      },
      "source": [
        "## 2. Bài tập: COVID-19 Retweet Prediction\n",
        "\n",
        "Link: https://www.cikm2020.org/covid-19-retweet-prediction-challenge/\n",
        "\n",
        "Dự đoán số lượng retweet của một tweet dựa vào các metadata như số #friends, #followers, ... của người đăng, thời gian, hashtags của tweet.\n",
        "\n",
        "Download: https://drive.google.com/drive/folders/1eZwesVW9RcW_0ZJt0ztGyhTlISx3USn5?usp=sharing"
      ]
    },
    {
      "cell_type": "code",
      "metadata": {
        "id": "N_j75XcF88nQ",
        "colab_type": "code",
        "colab": {}
      },
      "source": [
        "df_train = pd.read_csv(\"df_train.csv\")\n",
        "df_train.head()"
      ],
      "execution_count": null,
      "outputs": []
    },
    {
      "cell_type": "markdown",
      "metadata": {
        "id": "kwMmUneGZuYk",
        "colab_type": "text"
      },
      "source": [
        "## Bài tập\n",
        "Sử dụng một vài hoặt tất cả các cột trong số các cột timestamp, #followers, #friends, #favorites, hashtags, sentiment_1, sentiment_2 để dự đoán cột #retweet:\n",
        "- Dùng model machine learning bất kì (nên dùng neural network)\n",
        "- Đạt Mean Squared Logarithmic Error (https://www.tensorflow.org/api_docs/python/tf/keras/losses/MeanSquaredLogarithmicError) trên tập test ít nhất là 0.25 mới được đầy đủ điểm\n",
        "\n",
        "## Nộp bài\n",
        "- Code và chạy kết quả lưu vào file notebook NMMH_TH8_MSSV.ipynb (notebook phải có kết quả chạy nếu ko xem như chưa làm)\n",
        "- Nén thành file NMMH_TH8_MSSV.rar (.zip) và nộp về: dinhvietcuong1996@gmail.com\n",
        "- Deadline: 23g59 thứ 3 ngày 28/07/2020. Nộp trễ bị chia đôi số điểm."
      ]
    },
    {
      "cell_type": "code",
      "metadata": {
        "id": "0WzXL-8Y9DlV",
        "colab_type": "code",
        "colab": {}
      },
      "source": [
        "from sklearn.model_selection import train_test_split\n",
        "df_train, df_valid = train_test_split(df_train, test_size=0.3)"
      ],
      "execution_count": null,
      "outputs": []
    },
    {
      "cell_type": "code",
      "metadata": {
        "id": "ybAuSHHYaPpi",
        "colab_type": "code",
        "colab": {}
      },
      "source": [
        "import statsmodels.api as sm\n",
        "\n",
        "def forward_selection(data, target, significance_level=0.05):\n",
        "    initial_features = data.columns.tolist()\n",
        "    best_features = []\n",
        "    while (len(initial_features)>0):\n",
        "        remaining_features = list(set(initial_features)-set(best_features))\n",
        "        new_pval = pd.Series(index=remaining_features)\n",
        "        for new_column in remaining_features:\n",
        "            model = sm.OLS(target, sm.add_constant(data[best_features+[new_column]])).fit()\n",
        "            new_pval[new_column] = model.pvalues[new_column]\n",
        "        min_p_value = new_pval.min()\n",
        "        if(min_p_value<significance_level):\n",
        "            best_features.append(new_pval.idxmin())\n",
        "        else:\n",
        "            break\n",
        "    return best_features"
      ],
      "execution_count": null,
      "outputs": []
    },
    {
      "cell_type": "code",
      "metadata": {
        "id": "Y3uNN6PzaW2F",
        "colab_type": "code",
        "colab": {}
      },
      "source": [
        "column = []\n",
        "for i in df_train.columns:\n",
        "  if (df_train.dtypes[i] != 'object' and i != '#retweet'):\n",
        "    column.append(i)\n",
        "column"
      ],
      "execution_count": null,
      "outputs": []
    },
    {
      "cell_type": "code",
      "metadata": {
        "id": "Iypb8c7faY7K",
        "colab_type": "code",
        "colab": {}
      },
      "source": [
        "forward_selection(df_train[column], df_train['#retweet'])"
      ],
      "execution_count": null,
      "outputs": []
    },
    {
      "cell_type": "code",
      "metadata": {
        "id": "C1Roxoo5bSmB",
        "colab_type": "code",
        "colab": {}
      },
      "source": [
        "df_test = pd.read_csv(\"df_test.csv\")\n",
        "X_test = df_test[column].values\n",
        "X_test = (X_test - X_means)/X_stds\n",
        "y_test = df_test['#retweet'].values"
      ],
      "execution_count": null,
      "outputs": []
    },
    {
      "cell_type": "code",
      "metadata": {
        "id": "MtHmhVRZabBA",
        "colab_type": "code",
        "colab": {}
      },
      "source": [
        "X_train = df_train[column].values    \n",
        "X_valid = df_valid[column].values\n",
        "\n",
        "X_means = np.mean(X_train, axis=0)\n",
        "X_stds = np.std(X_train, axis=0)\n",
        "X_train = (X_train - X_means)/X_stds\n",
        "X_valid = (X_valid - X_means)/X_stds\n",
        "\n",
        "y_train = df_train['#retweet'].values\n",
        "y_valid = df_test['#retweet'].values"
      ],
      "execution_count": null,
      "outputs": []
    },
    {
      "cell_type": "code",
      "metadata": {
        "id": "lYI3F3Jeaf6E",
        "colab_type": "code",
        "colab": {}
      },
      "source": [
        "import tensorflow as tf\n",
        "from tensorflow.keras.layers import Input, Dense\n",
        "from tensorflow.keras.models import Model\n",
        "\n",
        "inputs = Input(shape=(5,))    ## tạo một layer Input, mỗi sample có input là 1 vector độ dài 5\n",
        "dense_1 = Dense(units=10, activation='relu')(inputs)   ## tạo một layer gồm 10 units, hàm kích hoạt relu\n",
        "outputs = Dense(units=1, activation=None)(dense_1)  \n",
        "model = Model(inputs=inputs, outputs=outputs)    ## tạo model với input và output layer đã xây dựng\n",
        "\n",
        "model.compile(optimizer=tf.keras.optimizers.Adam(learning_rate=0.0001), loss='mean_squared_error')      ## khai báo optimizer và loss cho model\n",
        "model.summary()"
      ],
      "execution_count": null,
      "outputs": []
    },
    {
      "cell_type": "code",
      "metadata": {
        "id": "D5YJiu0TcACa",
        "colab_type": "code",
        "colab": {}
      },
      "source": [
        "df_test = pd.read_csv(\"df_test.csv\")\n",
        "X_test = df_test[column].values\n",
        "X_test = (X_test - X_means)/X_stds\n",
        "y_test = df_test['#retweet'].values"
      ],
      "execution_count": null,
      "outputs": []
    },
    {
      "cell_type": "code",
      "metadata": {
        "id": "fTVNBuVPnJTB",
        "colab_type": "code",
        "colab": {}
      },
      "source": [
        "y_pred = model.predict(X_test)"
      ],
      "execution_count": null,
      "outputs": []
    },
    {
      "cell_type": "code",
      "metadata": {
        "id": "BfxUvhtym3a1",
        "colab_type": "code",
        "colab": {}
      },
      "source": [
        "y_pred = np.round(y_pred)\n",
        "y_pred = y_pred.astype(int)\n",
        "y_pred = np.squeeze(y_pred)"
      ],
      "execution_count": null,
      "outputs": []
    },
    {
      "cell_type": "code",
      "metadata": {
        "id": "J9qZ4tb8ofOs",
        "colab_type": "code",
        "colab": {}
      },
      "source": [
        "from sklearn.metrics import mean_squared_log_error\n",
        "mean_squared_log_error(y_test, y_pred)"
      ],
      "execution_count": null,
      "outputs": []
    },
    {
      "cell_type": "code",
      "metadata": {
        "id": "BXOnHQ4Uoh0U",
        "colab_type": "code",
        "colab": {}
      },
      "source": [
        ""
      ],
      "execution_count": null,
      "outputs": []
    }
  ]
}